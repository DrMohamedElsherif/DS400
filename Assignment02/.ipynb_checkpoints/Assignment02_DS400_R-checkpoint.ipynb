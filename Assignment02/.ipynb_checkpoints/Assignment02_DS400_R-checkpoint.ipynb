{
 "cells": [
  {
   "cell_type": "markdown",
   "metadata": {
    "tags": []
   },
   "source": [
    "---\n",
    "\n",
    "# DS400: Assignment II (R)\n",
    "\n",
    "##### Mohamed Elsherif (Student ID: 6378374)\n",
    "##### November 24, 2024"
   ]
  },
  {
   "cell_type": "markdown",
   "metadata": {},
   "source": [
    "\n",
    "---\n",
    "\n",
    "## Data Import and Description\n",
    "\n",
    "<div class=\"alert alert-block alert-info\">\n",
    "1. Use relative paths to load the data.</div>"
   ]
  },
  {
   "cell_type": "code",
   "execution_count": 1,
   "metadata": {},
   "outputs": [
    {
     "name": "stderr",
     "output_type": "stream",
     "text": [
      "Warning message:\n",
      "\"package 'here' was built under R version 4.3.3\"\n",
      "here() starts at C:/Users/Admin/Downloads/DS400_W24\n",
      "\n",
      "Warning message:\n",
      "\"package 'dplyr' was built under R version 4.3.3\"\n",
      "\n",
      "Attaching package: 'dplyr'\n",
      "\n",
      "\n",
      "The following objects are masked from 'package:stats':\n",
      "\n",
      "    filter, lag\n",
      "\n",
      "\n",
      "The following objects are masked from 'package:base':\n",
      "\n",
      "    intersect, setdiff, setequal, union\n",
      "\n",
      "\n"
     ]
    }
   ],
   "source": [
    "# Library Setup\n",
    "library(here)\n",
    "library(dplyr)"
   ]
  },
  {
   "cell_type": "code",
   "execution_count": 6,
   "metadata": {},
   "outputs": [
    {
     "name": "stdout",
     "output_type": "stream",
     "text": [
      "My Current Working Directory:  C:/Users/Admin/Downloads/DS400_W24/Assignment02 \n"
     ]
    }
   ],
   "source": [
    "# Set the working directory to the location where the notebook is located\n",
    "setwd(here::here(\"Assignment02\"))\n",
    "cat(\"My Current Working Directory: \", getwd(), \"\\n\")"
   ]
  },
  {
   "cell_type": "markdown",
   "metadata": {},
   "source": [
    "<div class=\"alert alert-block alert-info\">\n",
    "2. Load the data athletes and medals data into your environment.  Print the first 10 observations in each dataset. Also print all variable names for each dataset.\n",
    "</div>"
   ]
  },
  {
   "cell_type": "code",
   "execution_count": 7,
   "metadata": {},
   "outputs": [
    {
     "name": "stdout",
     "output_type": "stream",
     "text": [
      "First 10 observations of athletes dataset:\n",
      "      code                     name      name_short                  name_tv\n",
      "1  1532872         ALEKSANYAN Artur    ALEKSANYAN A         Artur ALEKSANYAN\n",
      "2  1532873           AMOYAN Malkhas        AMOYAN M           Malkhas AMOYAN\n",
      "3  1532874          GALSTYAN Slavik      GALSTYAN S          Slavik GALSTYAN\n",
      "4  1532944        HARUTYUNYAN Arsen   HARUTYUNYAN A        Arsen HARUTYUNYAN\n",
      "5  1532945          TEVANYAN Vazgen      TEVANYAN V          Vazgen TEVANYAN\n",
      "6  1532951            ARENAS Lorena        ARENAS L            Lorena ARENAS\n",
      "7  1533112          McKENZIE Ashley      McKENZIE A          Ashley McKENZIE\n",
      "8  1533136 BASS BITTAYE Gina Mariam BASS BITTAYE GM Gina Mariam BASS BITTAYE\n",
      "9  1533176          CAMARA Ebrahima        CAMARA E          Ebrahima CAMARA\n",
      "10 1533188      RUEDA SANTOS Lizeth  RUEDA SANTOS L      Lizeth RUEDA SANTOS\n",
      "   gender function. country_code  country country_full nationality\n",
      "1    Male   Athlete          ARM  Armenia      Armenia     Armenia\n",
      "2    Male   Athlete          ARM  Armenia      Armenia     Armenia\n",
      "3    Male   Athlete          ARM  Armenia      Armenia     Armenia\n",
      "4    Male   Athlete          ARM  Armenia      Armenia     Armenia\n",
      "5    Male   Athlete          ARM  Armenia      Armenia     Armenia\n",
      "6  Female   Athlete          COL Colombia     Colombia    Colombia\n",
      "7    Male   Athlete          JAM  Jamaica      Jamaica     Jamaica\n",
      "8  Female   Athlete          GAM   Gambia       Gambia      Gambia\n",
      "9    Male   Athlete          GAM   Gambia       Gambia      Gambia\n",
      "10 Female   Athlete          MEX   Mexico       Mexico      Mexico\n",
      "   nationality_full nationality_code height weight   disciplines\n",
      "1           Armenia              ARM      0      0 ['Wrestling']\n",
      "2           Armenia              ARM      0      0 ['Wrestling']\n",
      "3           Armenia              ARM      0      0 ['Wrestling']\n",
      "4           Armenia              ARM      0      0 ['Wrestling']\n",
      "5           Armenia              ARM      0      0 ['Wrestling']\n",
      "6          Colombia              COL    162      0 ['Athletics']\n",
      "7           Jamaica              JAM      0      0      ['Judo']\n",
      "8            Gambia              GAM    161      0 ['Athletics']\n",
      "9            Gambia              GAM    178      0 ['Athletics']\n",
      "10           Mexico              MEX      0      0 ['Triathlon']\n",
      "                                                         events birth_date\n",
      "1                                    [\"Men's Greco-Roman 97kg\"] 1991-10-21\n",
      "2                                    [\"Men's Greco-Roman 77kg\"] 1999-01-22\n",
      "3                                    [\"Men's Greco-Roman 67kg\"] 1996-12-21\n",
      "4                                      [\"Men's Freestyle 57kg\"] 1999-11-22\n",
      "5                                      [\"Men's Freestyle 65kg\"] 1999-10-27\n",
      "6  [\"Women's 20km Race Walk\", 'Marathon Race Walk Relay Mixed'] 1993-09-17\n",
      "7                                                ['Men -60 kg'] 1989-07-17\n",
      "8                              [\"Women's 100m\", \"Women's 200m\"] 1995-05-03\n",
      "9                                                [\"Men's 100m\"] 1996-09-18\n",
      "10                                       [\"Women's Individual\"] 1994-03-07\n",
      "   birth_place birth_country residence_place residence_country\n",
      "1       GYUMRI       Armenia          GYUMRI           Armenia\n",
      "2      YEREVAN       Armenia         YEREVAN           Armenia\n",
      "3                                    YEREVAN           Armenia\n",
      "4        MASIS       Armenia         YEREVAN           Armenia\n",
      "5    POKR VEDI       Armenia                           Armenia\n",
      "6      PEREIRA      Colombia       MELBOURNE         Australia\n",
      "7       LONDON Great Britain       CAMBERLEY     Great Britain\n",
      "8     TUBAKUTA        Gambia                                  \n",
      "9      BUNDUNG        Gambia          ANGERS            France\n",
      "10 GUADALAJARA        Mexico          XALAPA            Mexico\n",
      "                                                                                                nickname\n",
      "1                                                                                             White Bear\n",
      "2                                                                                                       \n",
      "3                                                                                                       \n",
      "4                                                                                                       \n",
      "5                                                                                                       \n",
      "6                                                                                                       \n",
      "7                                                                                                Bad Boy\n",
      "8  Earlier in her career she was nicknamed the 'Poor Olympian' due to the financial challenges she faced\n",
      "9                                                                                                       \n",
      "10                                                                                                      \n",
      "                                                     hobbies\n",
      "1                              Playing and watching football\n",
      "2                                                           \n",
      "3                                                           \n",
      "4                                                           \n",
      "5                                                           \n",
      "6                                                           \n",
      "7                                                      Music\n",
      "8                                                           \n",
      "9  Running, watching movies, football, chatting with friends\n",
      "10                                                          \n",
      "                                occupation\n",
      "1                                  Athlete\n",
      "2                                         \n",
      "3                                         \n",
      "4                                  Athlete\n",
      "5                                  Athlete\n",
      "6                                  Athlete\n",
      "7                                  Athlete\n",
      "8  Athlete, police officer (sub-inspector)\n",
      "9                  Athlete, prison officer\n",
      "10                                 Athlete\n",
      "                                                                                                 education\n",
      "1                                                     Graduated from Shirak State University (Gyumri, ARM)\n",
      "2                                                                                                         \n",
      "3                                                                                                         \n",
      "4  Graduated with a Master's degree from the Armenian State Institute of Physical Culture and Sport (2023)\n",
      "5                     Studied at the Armenian State Institute of Physical Culture and Sport (Yerevan, ARM)\n",
      "6                          Physical Education at Jaime Isaza Cadavid Colombian Polytechnic, Medellin (COL)\n",
      "7                                                                                                         \n",
      "8                                                                                                         \n",
      "9                                                                                                         \n",
      "10                                                 Studied Medicine at the University of Guadalajara (MEX)\n",
      "                                                                                                                             family\n",
      "1                                                                                                         Father, Gevorg Aleksanyan\n",
      "2                                                                                                                                  \n",
      "3                                                                                                                                  \n",
      "4                                                                  Wife, Diana (married October 2022). Daughter, Marias (born 2023)\n",
      "5                                                                                                Wife, Sona (married November 2023)\n",
      "6                                                                      Father, Jose Otoniel. Mother, Maria Rudy. Has three siblings\n",
      "7                                                                                      One daughter, Lana-Rose, who lives in France\n",
      "8  Husband, Mustapha Bittaye - physical education lecturer and football referee (married October 2023). One sister and two brothers\n",
      "9                                                                                         Married. One daughter. Has three brothers\n",
      "10                                                                                                                                 \n",
      "                                       lang\n",
      "1                Armenian, English, Russian\n",
      "2                                  Armenian\n",
      "3                                  Armenian\n",
      "4                                  Armenian\n",
      "5                         Armenian, Russian\n",
      "6                                   Spanish\n",
      "7                                   English\n",
      "8                           English, French\n",
      "9  Arabic, English, French, Mandinka, Wolof\n",
      "10                                  Spanish\n",
      "                                                                    coach\n",
      "1                                         Gevorg Aleksanyan (ARM), father\n",
      "2                                                                        \n",
      "3  Personal: Martin Alekhanyan (ARM).<br>National: Armen Babalaryan (ARM)\n",
      "4                                           National: Habetnak Kurghinyan\n",
      "5                                     National: Habetnak Kurghinyan (ARM)\n",
      "6                                          Personal: Brent Vallance (AUS)\n",
      "7                               Personal and National: Luke Preston (GBR)\n",
      "8                                     Personal: Christophe Belliard (FRA)\n",
      "9                                     Personal: Christophe Belliard (FRA)\n",
      "10                                         Personal: Eugenio Chimal (MEX)\n",
      "                                                                                                                                                                                                                             reason\n",
      "1                                                                                                                                                                               He followed his father and his uncle into the sport\n",
      "2                                                                                                                                                                                                                                  \n",
      "3                                                                                                                                                                                                                                  \n",
      "4       While doing karate he noticed wrestlers training and decided to give it a try. He also tried judo but his father, a former wrestler, did not allow him to do both, so he chose wrestling. (sport.mediamax.am, 10 July 2017)\n",
      "5                                 “My family did not like wrestling very much. At first I wanted to do boxing but my older friends advised me to go to wrestling training, and after a week, I started to like the sport.” (myInfo)\n",
      "6                                                                                                                                                                                                                                  \n",
      "7                                                                                                           \"I was thrown over [an argument about] a Pokemon card and wanted to learn to throw immediately.\" (Athlete, 25 Jun 2024)\n",
      "8  “I started running when I was in primary school, like we have junior championships. It's where I started running and it’s where I started to notice that, if I work hard I will be a great athlete.” (olympics.com, 24 Apr 2024)\n",
      "9                                                                                                                                                                    \"I love running and I was fast a child.\" (Athlete, 7 Jul 2024)\n",
      "10                                                                                                                                   Was a competitive swimmer from age 12 and went on to race internationally in marathon swimming\n",
      "                                                                                                                                                                                                                                                                                                                                                                                                                                                                                                                                                                                                                                                                        hero\n",
      "1                                                                                                                                                                                                                                                                                                                                                                                                                                           Footballer Zinedine Zidane (FRA), World Cup winner (1998) and European champion (2000) with France, won the Champions League as a player and three times as a manager with Real Madrid, three-time FIFA World Player of the Year\n",
      "2                                                                                                                                                                                                                                                                                                                                                                                                                                                                                                                                                                                                                                                                           \n",
      "3                                                                                                                                                                                                                                                                                                                                                                                                                                                                                                                                                                                                                                                                           \n",
      "4                                                                                                                                                                                                                                                                                                                                                                                                                                                                                       Wrestler Armen Nazaryan (ARM, BUL), two-time Olympic champion (1996, 2000) and 2004 bronze medallist. Eight-time world championship medallist (three gold, two silver, three bronze)\n",
      "5                                                                                                                                                                                                                                                                                                                                                                                                                                                                                                                                                                                                                                                                           \n",
      "6                                                                                                                                                                                                                                                                                                                                                                                                                                                                                                                                                        Race walker Luis Fernando Lopez (COL), four-time Olympian (2004, 2008, 2012, 2016), 2011 world champion (20km walk)\n",
      "7                                                                                                                                                                                                                                                                                                                                                                                                                       Boxer Muhammad Ali, born Cassius Clay (USA), former undisputed heavyweight champion of the world, 1960 Olympic champion (light heavyweight), nicknamed 'The Greatest' and regarded as one of the most significant sports figures of the 20th century\n",
      "8  Sprinter Shelly-Ann Fraser-Pryce (JAM), three time Olympic champion (four silver, one bronze), 16-time world championship medallist (10 gold, five silver, one bronze). In the 100m, two-time Olympic champion (2008, 2012), five-time world champion (2009, 2013, 2015, 2019, 2022). </p><p>\"Shelly-Ann, she is consistent. She is a mother but she still loves what she is doing and she is still performing as she did before.\" (Tales of Hagie Drammeh Youtube, 16 Jan 2023)</p><p>Sprinter Marie-Josee Ta Lou (CIV), three fourth places at the Olympic Games (2016, 2020), double world silver medallist (100m-200m) in 2017, world bronze medallist in 2019 (100m)\n",
      "9                                                                                                                                                                                                                                                                                                                                                                                                                    Sprinter Gina Mariam Bass Bittaye (GAM), two-time Olympian (Rio 2016, Tokyo 2020), 2019 World Championships 200m finalist, four-time African championships medallist (two gold, two bronze), four-time African Games medallist (three gold, one silver)\n",
      "10                                                                                                                                                                                                                                                                                                                                                                                                                                                                                                                                                                                                                                                                          \n",
      "                                                                                                          influence\n",
      "1                                                                                     His father, Gevorg Aleksanyan\n",
      "2                                                                                                                  \n",
      "3                                                                                                                  \n",
      "4                                                                                                                  \n",
      "5                                                                                                                  \n",
      "6                                                                                                                  \n",
      "7                          \"My coach Luke Preston. We've been a team for the last 12 years.\" (Athlete, 25 Jun 2024)\n",
      "8                                                                                                                  \n",
      "9  Momodou Lamin Kujabi, a former international athlete from The Gambia who was once his physical education teacher\n",
      "10                                                                                                                 \n",
      "                                                                                           philosophy\n",
      "1                                                  \"Wrestling is my life.\" (mediamax.am. 18 May 2016)\n",
      "2            \"To become a good athlete, you first have to be a good person.\" (ankakh.com, 6 Oct 2018)\n",
      "3                                                                                                    \n",
      "4  “Nothing is impossible, set goals in front of you, fight and achieve it.” (Instagram, 13 May 2023)\n",
      "5                                                                                                    \n",
      "6                                                                                                    \n",
      "7                                                                                                    \n",
      "8               \"If you believe in yourself, never be discouraged.\" (worldathletics.org, 17 Dec 2019)\n",
      "9                                  \"What does not kill you makes you stronger.\" (Athlete, 7 Jul 2024)\n",
      "10                                                                                                   \n",
      "                                                                                             sporting_relatives\n",
      "1                                                                                                              \n",
      "2  Uncle, Roman Amoyan (wrestling), 2008 Olympic bronze medallist and two-time European champion in Greco-Roman\n",
      "3                                                                                                              \n",
      "4                                                                                                              \n",
      "5                                                                                                              \n",
      "6                                                                                                              \n",
      "7                                                                                                              \n",
      "8                                                                                                              \n",
      "9                                                                                                              \n",
      "10                                                                                                             \n",
      "                                                            ritual\n",
      "1                                                                 \n",
      "2                                                                 \n",
      "3                                                                 \n",
      "4                                                                 \n",
      "5                                                                 \n",
      "6  In competition she wears a ring or earrings her family gave her\n",
      "7                                                                 \n",
      "8                                                                 \n",
      "9                                                                 \n",
      "10                                                                \n",
      "                                                                                                                                                                other_sports\n",
      "1                                                                                                                                                                           \n",
      "2                                                                                                                                                                           \n",
      "3                                                                                                                                                                           \n",
      "4                                                                                                                                                                           \n",
      "5                                                                                                                                                                           \n",
      "6                                                                                                                                                                           \n",
      "7                                                                                                                                                                           \n",
      "8                                                                                                                                                                           \n",
      "9                                                                                                                                                                           \n",
      "10 Competed in marathon swimming at London 2012. Finished 20th in the 10km. She also competed in the Marathon Swimming World Cup circuit and at multiple world championships\n",
      "\n",
      "Variable names in athletes dataset:\n",
      " [1] \"code\"               \"name\"               \"name_short\"        \n",
      " [4] \"name_tv\"            \"gender\"             \"function.\"         \n",
      " [7] \"country_code\"       \"country\"            \"country_full\"      \n",
      "[10] \"nationality\"        \"nationality_full\"   \"nationality_code\"  \n",
      "[13] \"height\"             \"weight\"             \"disciplines\"       \n",
      "[16] \"events\"             \"birth_date\"         \"birth_place\"       \n",
      "[19] \"birth_country\"      \"residence_place\"    \"residence_country\" \n",
      "[22] \"nickname\"           \"hobbies\"            \"occupation\"        \n",
      "[25] \"education\"          \"family\"             \"lang\"              \n",
      "[28] \"coach\"              \"reason\"             \"hero\"              \n",
      "[31] \"influence\"          \"philosophy\"         \"sporting_relatives\"\n",
      "[34] \"ritual\"             \"other_sports\"      \n",
      "\n",
      "First 10 observations of medals dataset:\n",
      "     medal_type medal_code medal_date            name country_code gender\n",
      "1    Gold Medal          1 2024-07-27 Remco EVENEPOEL          BEL      M\n",
      "2  Silver Medal          2 2024-07-27   Filippo GANNA          ITA      M\n",
      "3  Bronze Medal          3 2024-07-27   Wout van AERT          BEL      M\n",
      "4    Gold Medal          1 2024-07-27     Grace BROWN          AUS      W\n",
      "5  Silver Medal          2 2024-07-27  Anna HENDERSON          GBR      W\n",
      "6  Bronze Medal          3 2024-07-27    Chloe DYGERT          USA      W\n",
      "7    Gold Medal          1 2024-07-27           China          CHN      W\n",
      "8  Silver Medal          2 2024-07-27   United States          USA      W\n",
      "9  Bronze Medal          3 2024-07-27   Great Britain          GBR      W\n",
      "10   Gold Medal          1 2024-07-27       OH Sanguk          KOR      M\n",
      "     discipline                               event event_type\n",
      "1  Cycling Road         Men's Individual Time Trial        ATH\n",
      "2  Cycling Road         Men's Individual Time Trial        ATH\n",
      "3  Cycling Road         Men's Individual Time Trial        ATH\n",
      "4  Cycling Road       Women's Individual Time Trial        ATH\n",
      "5  Cycling Road       Women's Individual Time Trial        ATH\n",
      "6  Cycling Road       Women's Individual Time Trial        ATH\n",
      "7        Diving Women's Synchronised 3m Springboard       TEAM\n",
      "8        Diving Women's Synchronised 3m Springboard       TEAM\n",
      "9        Diving Women's Synchronised 3m Springboard       TEAM\n",
      "10      Fencing              Men's Sabre Individual       HATH\n",
      "                                                                        url_event\n",
      "1    /en/paris-2024/results/cycling-road/men-s-individual-time-trial/fnl-000100--\n",
      "2    /en/paris-2024/results/cycling-road/men-s-individual-time-trial/fnl-000100--\n",
      "3    /en/paris-2024/results/cycling-road/men-s-individual-time-trial/fnl-000100--\n",
      "4  /en/paris-2024/results/cycling-road/women-s-individual-time-trial/fnl-000100--\n",
      "5  /en/paris-2024/results/cycling-road/women-s-individual-time-trial/fnl-000100--\n",
      "6  /en/paris-2024/results/cycling-road/women-s-individual-time-trial/fnl-000100--\n",
      "7  /en/paris-2024/results/diving/women-s-synchronised-3m-springboard/fnl-000100--\n",
      "8  /en/paris-2024/results/diving/women-s-synchronised-3m-springboard/fnl-000100--\n",
      "9  /en/paris-2024/results/diving/women-s-synchronised-3m-springboard/fnl-000100--\n",
      "10             /en/paris-2024/results/fencing/men-s-sabre-individual/fnl-000100--\n",
      "                code\n",
      "1            1903136\n",
      "2            1923520\n",
      "3            1903147\n",
      "4            1940173\n",
      "5            1912525\n",
      "6            1955079\n",
      "7  DIVW3MTEAM2-CHN01\n",
      "8  DIVW3MTEAM2-USA01\n",
      "9  DIVW3MTEAM2-GBR01\n",
      "10           1927149\n",
      "\n",
      "Variable names in medals dataset:\n",
      " [1] \"medal_type\"   \"medal_code\"   \"medal_date\"   \"name\"         \"country_code\"\n",
      " [6] \"gender\"       \"discipline\"   \"event\"        \"event_type\"   \"url_event\"   \n",
      "[11] \"code\"        \n"
     ]
    }
   ],
   "source": [
    "# Load the data\n",
    "athletes <- read.csv(\"./data/athletes.csv\")\n",
    "medals <- read.csv(\"./data/medals.csv\")\n",
    "\n",
    "# Print the first 10 observations and variable names of each dataset\n",
    "cat(\"First 10 observations of athletes dataset:\\n\")\n",
    "print(head(athletes, 10))\n",
    "\n",
    "cat(\"\\nVariable names in athletes dataset:\\n\")\n",
    "print(names(athletes))\n",
    "\n",
    "cat(\"\\nFirst 10 observations of medals dataset:\\n\")\n",
    "print(head(medals, 10))\n",
    "\n",
    "cat(\"\\nVariable names in medals dataset:\\n\")\n",
    "print(names(medals))"
   ]
  },
  {
   "cell_type": "markdown",
   "metadata": {},
   "source": [
    "<div class=\"alert alert-block alert-info\"> \n",
    "3. How many different nationalities are there in the athletes dataset?\n",
    "    </div>"
   ]
  },
  {
   "cell_type": "code",
   "execution_count": 8,
   "metadata": {},
   "outputs": [
    {
     "name": "stdout",
     "output_type": "stream",
     "text": [
      "Unique nationalities (197):\n"
     ]
    }
   ],
   "source": [
    "# Remove NA values and empty strings, then get the unique nationalities\n",
    "unique_nationalities <- unique(athletes$nationality[athletes$nationality != \"\"])\n",
    "cat(\"Unique nationalities (\", length(unique_nationalities), \"):\\n\", sep=\"\")"
   ]
  },
  {
   "cell_type": "markdown",
   "metadata": {
    "tags": []
   },
   "source": [
    "## Data Visualization\n",
    "<div class=\"alert alert-block alert-info\">   \n",
    "4. Create a barplot showing the number of athletes per nationality (from highest to lowest). What is wrong with this plot?\n",
    "</div>"
   ]
  },
  {
   "cell_type": "code",
   "execution_count": 9,
   "metadata": {},
   "outputs": [
    {
     "data": {
      "image/png": "[encoded data removed]",
      "text/plain": [
       "Plot with title \"Number of Athletes per Nationality\""
      ]
     },
     "metadata": {
      "image/png": {
       "height": 420,
       "width": 420
      }
     },
     "output_type": "display_data"
    }
   ],
   "source": [
    "# Remove NA values and empty strings from nationality column\n",
    "clean_nationalities <- athletes$nationality[athletes$nationality != \"\" & !is.na(athletes$nationality)]\n",
    "\n",
    "# Count the number of athletes per nationality\n",
    "nationality_counts <- table(clean_nationalities)\n",
    "\n",
    "# Sort the counts from highest to lowest\n",
    "sorted_counts <- sort(nationality_counts, decreasing = TRUE)\n",
    "\n",
    "# Plot\n",
    "barplot(sorted_counts, \n",
    "        main = \"Number of Athletes per Nationality\", \n",
    "        xlab = \"Nationality\", \n",
    "        ylab = \"Number of Athletes\", \n",
    "        las = 2,       # labels rotation for readability but still cluttered. \n",
    "        col = \"skyblue\", \n",
    "        border = \"black\")"
   ]
  },
  {
   "cell_type": "markdown",
   "metadata": {},
   "source": [
    "<div class=\"alert alert-block alert-info\" style=\"background-color: yellow;\">   \n",
    "    The barplot has several issues: a large number of categories can clutter the x-axis, especially if NaN or empty nationalities are not filtered out, and the dominance of a few nationalities may overshadow less-represented ones, making them nearly invisible. Additionally, displaying all categories can lead to a top-heavy visualization that lacks meaningful comparison. In R, the barplot() function is not able to fit all the labels on the x-axis by default\n",
    "</div>"
   ]
  },
  {
   "cell_type": "markdown",
   "metadata": {},
   "source": [
    "<div class=\"alert alert-block alert-info\">   \n",
    "5. Make another barplot where only the most common nationalities are displayed (defined as having at least 100 athletes at the Olympics). The remaining athletes should be grouped into a “other” bar. Include the actual number of athletes in each bar.\n",
    "</div>"
   ]
  },
  {
   "cell_type": "code",
   "execution_count": 10,
   "metadata": {},
   "outputs": [
    {
     "data": {
      "image/png": "[encoded data removed]",
      "text/plain": [
       "Plot with title \"Number of Athletes per Nationality\""
      ]
     },
     "metadata": {
      "image/png": {
       "height": 420,
       "width": 420
      }
     },
     "output_type": "display_data"
    }
   ],
   "source": [
    "# Filter nationalities with at least 100 athletes\n",
    "common_nationalities <- nationality_counts[nationality_counts >= 100]\n",
    "\n",
    "# Group the rest of the nationalities into \"Other\"\n",
    "other_nationalities <- nationality_counts[nationality_counts < 100]\n",
    "other_count <- sum(other_nationalities)\n",
    "\n",
    "# Combine the common nationalities and \"Other\" category\n",
    "final_nationalities <- c(common_nationalities, \"Other\" = other_count)\n",
    "\n",
    "# Create the barplot\n",
    "barplot(final_nationalities, \n",
    "        main = \"Number of Athletes per Nationality\", \n",
    "        xlab = \"Nationality\", \n",
    "        ylab = \"Number of Athletes\", \n",
    "        las = 2, \n",
    "        col = \"skyblue\", \n",
    "        border = \"black\")"
   ]
  },
  {
   "cell_type": "markdown",
   "metadata": {},
   "source": [
    "<div class=\"alert alert-block alert-info\">   \n",
    "6. Using the medals dataset, select the top 5 countries with the most medals. Create a plot showing the number of medals on the y-axis and the countries on the x-axis. Color the bars per gender. To make the plot easier to read, include only athletes that identify themselves as male or female. Use a colorblind-friendly palette\n",
    "</div>"
   ]
  },
  {
   "cell_type": "code",
   "execution_count": null,
   "metadata": {},
   "outputs": [],
   "source": []
  },
  {
   "cell_type": "markdown",
   "metadata": {
    "tags": []
   },
   "source": [
    "<div class=\"alert alert-block alert-info\">   \n",
    "7. Re-create the previous plot but facet by medal type. Are there any differences between the medal types?\n",
    "</div>"
   ]
  },
  {
   "cell_type": "code",
   "execution_count": null,
   "metadata": {},
   "outputs": [],
   "source": [
    "# Facet the plot by medal type\n",
    "g = sns.catplot(\n",
    "    data=top_medals,\n",
    "    x='country_code',\n",
    "    hue='gender',\n",
    "    col='medal_type',\n",
    "    kind='count',\n",
    "    palette=\"colorblind\",\n",
    "    errorbar=None,\n",
    "    height=5,\n",
    "    aspect=1.5\n",
    ")\n",
    "\n",
    "g.set_titles(\"{col_name} Medals\")\n",
    "g.set_axis_labels(\"Country\", \"Number of Medals\")\n",
    "g.add_legend(title=\"Gender\")\n",
    "plt.show()"
   ]
  },
  {
   "cell_type": "markdown",
   "metadata": {},
   "source": [
    "<div class=\"alert alert-block alert-info\" style=\"background-color: yellow;\">   \n",
    "The USA shows stronger performance for women across all medal types, particularly in Gold and Silver medals. while France and Great Britain show a stronger performance for men in Silver and Bronze medals, though GBR balances Gold medals equally.</div>"
   ]
  },
  {
   "cell_type": "markdown",
   "metadata": {},
   "source": [
    "<div class=\"alert alert-block alert-info\">   \n",
    "8. Create a plot that shows the cumulative medals won by the top 3 country over time?</div>"
   ]
  },
  {
   "cell_type": "code",
   "execution_count": null,
   "metadata": {},
   "outputs": [],
   "source": []
  },
  {
   "cell_type": "code",
   "execution_count": null,
   "metadata": {},
   "outputs": [],
   "source": []
  },
  {
   "cell_type": "code",
   "execution_count": null,
   "metadata": {},
   "outputs": [],
   "source": []
  },
  {
   "cell_type": "markdown",
   "metadata": {},
   "source": [
    "<div class=\"alert alert-block alert-info\">9. Import the athletics dataset (discipline_athletics.csv). Keep only the data from women’s and men’s 100m and 200m finals. Print the dimensions of the resulting dataset.</div>"
   ]
  },
  {
   "cell_type": "code",
   "execution_count": null,
   "metadata": {},
   "outputs": [],
   "source": [
    "DdisciplineAthletics = pd.read_csv(\"./data-7/discipline_athletics.csv\")\n",
    "\n",
    "MW_100200 = DdisciplineAthletics[ \n",
    "    (DdisciplineAthletics['event_code'].isin(['ATHM100M', 'ATHM200M', 'ATHW100M', 'ATHW200M'])) &     \n",
    "    (DdisciplineAthletics['stage'] == 'Final') &  \n",
    "    (DdisciplineAthletics['gender'].isin(['M', 'W']))      \n",
    "]\n",
    "\n",
    "print(f\"Dimensions of the filtered dataset: {MW_100200.shape}\")"
   ]
  },
  {
   "cell_type": "markdown",
   "metadata": {},
   "source": [
    "<div class=\"alert alert-block alert-info\">10. Create two plots (side-by-side) that shows the distribution of the athletes’ ages and their finish time, once for the 100m final and once for the 200m final. Color the athletes by their gender. Do not use a shared axes for the two plots. What can you observe from the plots?</div>\n"
   ]
  },
  {
   "cell_type": "code",
   "execution_count": null,
   "metadata": {
    "jp-MarkdownHeadingCollapsed": true
   },
   "outputs": [],
   "source": [
    "# Convert participant_code and code to string type for consistent merging\n",
    "MW_100200['participant_code'] = MW_100200['participant_code'].astype(str)\n",
    "Athletes['code'] = Athletes['code'].astype(str)\n",
    "\n",
    "# Merge MW_100200 with Athletes dataset\n",
    "merged_data = MW_100200.merge(Athletes, left_on='participant_code', right_on='code', how='inner')\n",
    "\n",
    "# Convert date columns to datetime format and remove time information\n",
    "merged_data['date'] = pd.to_datetime(merged_data['date']).dt.tz_localize(None)\n",
    "merged_data['birth_date'] = pd.to_datetime(merged_data['birth_date']).dt.tz_localize(None)\n",
    "\n",
    "# Calculate athletes' ages\n",
    "merged_data['age'] = (merged_data['date'] - merged_data['birth_date']).dt.days / 365.25\n",
    "\n",
    "# Filter the dataset for 100m and 200m events\n",
    "data_100m = merged_data[merged_data['event_code'].str.contains('ATHM100M|ATHW100M')]\n",
    "data_200m = merged_data[merged_data['event_code'].str.contains('ATHM200M|ATHW200M')]\n",
    "\n",
    "\n",
    "fig, axes = plt.subplots(1, 2, figsize=(16, 6), sharey=False)\n",
    "# Plot for 100m event\n",
    "sns.scatterplot(\n",
    "    ax=axes[0],\n",
    "    data=data_100m,\n",
    "    x='age',\n",
    "    y='result',\n",
    "    hue='gender_x',\n",
    "    palette={'M': 'blue', 'W': 'red'}\n",
    ")\n",
    "axes[0].set_title('100m Final: Age vs Finish Time')\n",
    "axes[0].set_xlabel('Age (Years)')\n",
    "axes[0].set_ylabel('Finish Time (Seconds)')\n",
    "\n",
    "# Plot for 200m event\n",
    "sns.scatterplot(\n",
    "    ax=axes[1],\n",
    "    data=data_200m,\n",
    "    x='age',\n",
    "    y='result',\n",
    "    hue='gender_x',\n",
    "    palette={'M': 'blue', 'W': 'red'}\n",
    ")\n",
    "axes[1].set_title('200m Final: Age vs Finish Time')\n",
    "axes[1].set_xlabel('Age (Years)')\n",
    "axes[1].set_ylabel('Finish Time (Seconds)')\n",
    "fig.tight_layout()\n",
    "plt.legend(title='Gender', bbox_to_anchor=(1.05, 1), loc='upper left')\n",
    "plt.show()"
   ]
  },
  {
   "cell_type": "markdown",
   "metadata": {},
   "source": [
    "<div class=\"alert alert-block alert-info\" style=\"background-color: yellow;\">   In both the 100m and 200m final races, younger athletes, particularly those in their early 20s, tend to perform the best, with male athletes consistently achieving faster times than their female counterparts. The fastest times in both races are dominated by male athletes, with female athletes generally recording slower times and showing more variability in performance. Age also plays a role, as older athletes tend to have slower finish times, especially in the female category. Overall, the 100m and 200m finals shows the advantage of youth and the gender performance disparity in sprinting events.</div>"
   ]
  },
  {
   "cell_type": "markdown",
   "metadata": {
    "tags": []
   },
   "source": [
    "---\n",
    "\n",
    "### SQL\n",
    "\n",
    "<div class=\"alert alert-block alert-info\">\n",
    "11. Print the names of all tables in the database.</div>"
   ]
  },
  {
   "cell_type": "code",
   "execution_count": null,
   "metadata": {},
   "outputs": [],
   "source": [
    "import sqlite3\n",
    "\n",
    "# Connect to the SQLite database\n",
    "db_path = \"./data-7/imdb.db\"\n",
    "conn = sqlite3.connect(db_path)\n",
    "\n",
    "# Query to list all tables in the database\n",
    "query = \"SELECT name FROM sqlite_master WHERE type='table';\"\n",
    "\n",
    "# Execute query\n",
    "tables = pd.read_sql(query, conn).values\n",
    "\n",
    "print(\"Tables in the IMDb database:\")\n",
    "print(tables)"
   ]
  },
  {
   "cell_type": "markdown",
   "metadata": {},
   "source": [
    "<div class=\"alert alert-block alert-info\">\n",
    "12. Print the first 10 rows of the names table.</div>"
   ]
  },
  {
   "cell_type": "code",
   "execution_count": null,
   "metadata": {},
   "outputs": [],
   "source": [
    "# Query to retrieve the first 10 rows of the 'names' table\n",
    "query_names = \"SELECT * FROM names LIMIT 10;\"\n",
    "\n",
    "# Execute query\n",
    "names_table = pd.read_sql(query_names, conn)\n",
    "\n",
    "# Display the result\n",
    "print(\"First 10 rows of the 'names' table:\")\n",
    "print(names_table)"
   ]
  },
  {
   "cell_type": "markdown",
   "metadata": {},
   "source": [
    "<div class=\"alert alert-block alert-info\">\n",
    "13. How many unique names exist in the names table?</div>"
   ]
  },
  {
   "cell_type": "code",
   "execution_count": null,
   "metadata": {},
   "outputs": [],
   "source": [
    "# Query to count unique names in the 'names' table\n",
    "query_unique_names = \"SELECT COUNT(DISTINCT primaryName) AS unique_name_count FROM names;\"\n",
    "\n",
    "# Execute query\n",
    "unique_names_count = pd.read_sql(query_unique_names, conn)\n",
    "\n",
    "print(\"Number of unique names in the 'names' table:\")\n",
    "print(unique_names_count)"
   ]
  },
  {
   "cell_type": "markdown",
   "metadata": {},
   "source": [
    "<div class=\"alert alert-block alert-info\">\n",
    "14. What is the average rating of all titles in the ratings table?</div>"
   ]
  },
  {
   "cell_type": "code",
   "execution_count": null,
   "metadata": {},
   "outputs": [],
   "source": [
    "# Execute the query and fetch the results\n",
    "ratings_columns = pd.read_sql(\"PRAGMA table_info(ratings);\", conn)\n",
    "print(\"Columns in the 'ratings' table:\")\n",
    "print(ratings_columns)\n",
    "\n",
    "# Query to calculate the average rating\n",
    "query_avg_rating = \"SELECT AVG(averageRating) AS avg_rating FROM ratings;\"\n",
    "\n",
    "# Execute query\n",
    "avg_rating = pd.read_sql(query_avg_rating, conn)\n",
    "\n",
    "print(\"The average rating of all titles in the ratings table:\")\n",
    "print(avg_rating)"
   ]
  },
  {
   "cell_type": "markdown",
   "metadata": {},
   "source": [
    "<div class=\"alert alert-block alert-info\">\n",
    "15. What is the average rating of all titles in the ratings table that have less than 100 votes?</div>"
   ]
  },
  {
   "cell_type": "code",
   "execution_count": null,
   "metadata": {},
   "outputs": [],
   "source": [
    "# Query to calculate the average rating for titles with less than 100 votes\n",
    "query_avg_rating_100_votes = \"\"\"\n",
    "SELECT AVG(averageRating) AS avg_rating\n",
    "FROM ratings\n",
    "WHERE numVotes < 100;\n",
    "\"\"\"\n",
    "\n",
    "# Execute query\n",
    "avg_rating_100_votes = pd.read_sql(query_avg_rating_100_votes, conn)\n",
    "\n",
    "print(\"The average rating of titles with less than 100 votes:\")\n",
    "print(avg_rating_100_votes)"
   ]
  },
  {
   "cell_type": "markdown",
   "metadata": {
    "tags": []
   },
   "source": [
    "<div class=\"alert alert-block alert-info\">\n",
    "16. List the names, birth years, and primary professions of the 10 oldest actors/actresses in the database.</div>"
   ]
  },
  {
   "cell_type": "code",
   "execution_count": null,
   "metadata": {},
   "outputs": [],
   "source": [
    "# Query to find the 10 oldest actors/actresses, excluding missing birthYear values\n",
    "query_oldest_actors = \"\"\"\n",
    "SELECT primaryName, birthYear, primaryProfession\n",
    "FROM names\n",
    "WHERE (primaryProfession LIKE '%actor%' OR primaryProfession LIKE '%actress%')\n",
    "AND birthYear IS NOT NULL\n",
    "ORDER BY birthYear ASC\n",
    "LIMIT 10;\n",
    "\"\"\"\n",
    "\n",
    "# Execute query\n",
    "oldest_actors = pd.read_sql(query_oldest_actors, conn)\n",
    "\n",
    "print(\"The 10 oldest actors/actresses:\")\n",
    "print(oldest_actors)"
   ]
  },
  {
   "cell_type": "markdown",
   "metadata": {},
   "source": [
    "<div class=\"alert alert-block alert-info\">\n",
    "17. Which three movies have the lowest ratings? Print their name, release year, title type, and rating.</div>"
   ]
  },
  {
   "cell_type": "code",
   "execution_count": null,
   "metadata": {},
   "outputs": [],
   "source": [
    "# Query to find the 3 movies with the lowest ratings\n",
    "query_lowest_rated_movies = \"\"\"\n",
    "SELECT t.primaryTitle, t.startYear, t.titleType, r.averageRating\n",
    "FROM titles t\n",
    "JOIN ratings r ON t.tconst = r.tconst\n",
    "WHERE t.titleType = 'movie'  -- Considering only movies\n",
    "ORDER BY r.averageRating ASC  -- Sort by rating in ascending order\n",
    "LIMIT 3;  -- Limit to the top 3 lowest rated movies\n",
    "\"\"\"\n",
    "\n",
    "# Execute query \n",
    "lowest_rated_movies = pd.read_sql(query_lowest_rated_movies, conn)\n",
    "\n",
    "print(\"The 3 movies with the lowest ratings:\")\n",
    "print(lowest_rated_movies)"
   ]
  },
  {
   "cell_type": "markdown",
   "metadata": {},
   "source": [
    "<div class=\"alert alert-block alert-info\">\n",
    "18. Create a histogram plot that shows the distribution of TV series ratings vs. movie ratings. What can you\n",
    "observe from the plot?</div>"
   ]
  },
  {
   "cell_type": "code",
   "execution_count": null,
   "metadata": {},
   "outputs": [],
   "source": [
    "# Query to get the ratings of TV series and movies\n",
    "query_ratings_distribution = \"\"\"\n",
    "SELECT t.titleType, r.averageRating\n",
    "FROM titles t\n",
    "JOIN ratings r ON t.tconst = r.tconst\n",
    "WHERE t.titleType IN ('movie', 'tvSeries');\n",
    "\"\"\"\n",
    "# Execute query\n",
    "ratings_data = pd.read_sql(query_ratings_distribution, conn)\n",
    "\n",
    "# Create the histogram for movie and TV series ratings\n",
    "sns.set(style=\"whitegrid\")\n",
    "plt.figure(figsize=(10, 5))\n",
    "sns.histplot(data=ratings_data, x=\"averageRating\", hue=\"titleType\", multiple=\"stack\", bins=20, kde=False, palette=\"Set1\")\n",
    "plt.title(\"Distribution of Ratings for Movies vs. TV Series\", fontsize=14)\n",
    "plt.xlabel(\"Average Rating\", fontsize=12)\n",
    "plt.ylabel(\"Frequency\", fontsize=12)\n",
    "plt.grid(False)\n",
    "plt.show()"
   ]
  },
  {
   "cell_type": "markdown",
   "metadata": {},
   "source": [
    "<div class=\"alert alert-block alert-info\" style=\"background-color: yellow;\"> <b>TV Series</b> are generally rated higher than movies, with more frequent ratings above 7 and fewer very low ratings. On the other hand <b>Movies</b> have a wider distribution of ratings, from extremely low to very high. There also seem to be extreme outliers on both ends for both movies and TV series. Some titles have ratings as low as 1.9 (TV series), and others as high as 9.2 (movies), indicating that both genres have extremes in viewer reception.</div>"
   ]
  },
  {
   "cell_type": "markdown",
   "metadata": {},
   "source": [
    "<div class=\"alert alert-block alert-info\">\n",
    "19. Close the connection to the database (if applicable).</div>"
   ]
  },
  {
   "cell_type": "markdown",
   "metadata": {},
   "source": [
    "<div class=\"alert alert-block alert-info\" style=\"background-color: yellow;\"> Closing connection is not required here as this is done automatically in python.</div>"
   ]
  },
  {
   "cell_type": "markdown",
   "metadata": {
    "tags": []
   },
   "source": [
    "---\n",
    "# END OF SOLUTION\n",
    "---"
   ]
  }
 ],
 "metadata": {
  "kernelspec": {
   "display_name": "R",
   "language": "R",
   "name": "ir"
  },
  "language_info": {
   "codemirror_mode": "r",
   "file_extension": ".r",
   "mimetype": "text/x-r-source",
   "name": "R",
   "pygments_lexer": "r",
   "version": "4.3.1"
  },
  "vscode": {
   "interpreter": {
    "hash": "b0fa6594d8f4cbf19f97940f81e996739fb7646882a419484c72d19e05852a7e"
   }
  }
 },
 "nbformat": 4,
 "nbformat_minor": 4
}
